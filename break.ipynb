{
 "cells": [
  {
   "cell_type": "code",
   "execution_count": 2,
   "id": "d7000487",
   "metadata": {},
   "outputs": [
    {
     "name": "stdout",
     "output_type": "stream",
     "text": [
      "1\n",
      "2\n",
      "3\n",
      "4\n"
     ]
    }
   ],
   "source": [
    "# 1. Write a program to print numbers from 1 to 10, but stop if the number is 5.\n",
    "\n",
    "for i in range(1,11):\n",
    "    if i==5:\n",
    "        break\n",
    "    print(i)"
   ]
  },
  {
   "cell_type": "code",
   "execution_count": 50,
   "id": "3900f2d3",
   "metadata": {},
   "outputs": [
    {
     "name": "stdout",
     "output_type": "stream",
     "text": [
      "Not found\n"
     ]
    }
   ],
   "source": [
    "# 2. Write a program to search for a given digit in a number; stop when found.\n",
    "\n",
    "# num = int(input(\"Enter the Number\"))\n",
    "n = 34589\n",
    "digit = int(input(\"Enter the digit\"))\n",
    "found = False\n",
    "\n",
    "while n > 0:\n",
    "    last_digit = n % 10\n",
    "    if last_digit == digit:\n",
    "        found = True\n",
    "        print(\"Digit found!\")\n",
    "        break\n",
    "    n //= 10\n",
    "    if found:\n",
    "        print(\"Digit found\")\n",
    "if not found:\n",
    "    print(\"Not found\")\n",
    "\n",
    "\n"
   ]
  },
  {
   "cell_type": "code",
   "execution_count": 19,
   "id": "17e3a673",
   "metadata": {},
   "outputs": [
    {
     "name": "stdout",
     "output_type": "stream",
     "text": [
      "nfgh"
     ]
    }
   ],
   "source": [
    "# 3. Write a program to read characters from a string and stop when a is found.\n",
    "\n",
    "string = \"nfghailaanver\"\n",
    "for char in string:\n",
    "    if char == 'a':\n",
    "        break\n",
    "    print(char,end=\"\")\n",
    "\n",
    "\n",
    "# while string in search_string:\n"
   ]
  },
  {
   "cell_type": "code",
   "execution_count": 27,
   "id": "e98bc032",
   "metadata": {},
   "outputs": [
    {
     "name": "stdout",
     "output_type": "stream",
     "text": [
      "1 * 7 = 7\n",
      "2 * 7 = 14\n",
      "3 * 7 = 21\n",
      "4 * 7 = 28\n",
      "5 * 7 = 35\n",
      "6 * 7 = 42\n",
      "7 * 7 = 49\n"
     ]
    }
   ],
   "source": [
    "# 4. Write a program to print a multiplication table of 7 but stop when the result exceeds 50.\n",
    "num = 7\n",
    "for i in range(1,10):\n",
    "    mul = i * num\n",
    "    if mul >=50:\n",
    "        break\n",
    "    print(i,\"*\",7,\"=\",mul)\n",
    "\n"
   ]
  },
  {
   "cell_type": "code",
   "execution_count": 34,
   "id": "fec7145c",
   "metadata": {},
   "outputs": [
    {
     "name": "stdout",
     "output_type": "stream",
     "text": [
      "The first devisor of  16 is: 2\n"
     ]
    }
   ],
   "source": [
    "# 5. Write a program to find the first divisor of a number (greater than 1).\n",
    "\n",
    "n = int(input(\"Enter a number\"))\n",
    "for i in range(2,n+1):\n",
    "    if n % i ==0:\n",
    "        print(\"The first devisor of \",n,\"is:\",i)\n",
    "        break\n",
    "   \n",
    "\n"
   ]
  }
 ],
 "metadata": {
  "kernelspec": {
   "display_name": "Python 3",
   "language": "python",
   "name": "python3"
  },
  "language_info": {
   "codemirror_mode": {
    "name": "ipython",
    "version": 3
   },
   "file_extension": ".py",
   "mimetype": "text/x-python",
   "name": "python",
   "nbconvert_exporter": "python",
   "pygments_lexer": "ipython3",
   "version": "3.13.5"
  }
 },
 "nbformat": 4,
 "nbformat_minor": 5
}
