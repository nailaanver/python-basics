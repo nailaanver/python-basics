{
 "cells": [
  {
   "cell_type": "code",
   "execution_count": 3,
   "id": "151ce20e",
   "metadata": {},
   "outputs": [
    {
     "name": "stdout",
     "output_type": "stream",
     "text": [
      "*\n",
      "**\n",
      "***\n",
      "****\n",
      "*****\n"
     ]
    }
   ],
   "source": [
    "# 1. Write a program to print a right-angled triangle pattern of * with 5 rows. \n",
    "# * \n",
    "# ** \n",
    "# *** \n",
    "# **** \n",
    "# ***** \n",
    "\n",
    "for i in range (5):\n",
    "    print(\"*\"*(i+1))"
   ]
  },
  {
   "cell_type": "code",
   "execution_count": 6,
   "id": "b9872c24",
   "metadata": {},
   "outputs": [
    {
     "name": "stdout",
     "output_type": "stream",
     "text": [
      "Multiplication Table of 1 is:\n",
      "1 * 1 = 1\n",
      "1 * 2 = 2\n",
      "1 * 3 = 3\n",
      "1 * 4 = 4\n",
      "1 * 5 = 5\n",
      "1 * 6 = 6\n",
      "1 * 7 = 7\n",
      "1 * 8 = 8\n",
      "1 * 9 = 9\n",
      "1 * 10 = 10\n",
      "Multiplication Table of 2 is:\n",
      "2 * 1 = 2\n",
      "2 * 2 = 4\n",
      "2 * 3 = 6\n",
      "2 * 4 = 8\n",
      "2 * 5 = 10\n",
      "2 * 6 = 12\n",
      "2 * 7 = 14\n",
      "2 * 8 = 16\n",
      "2 * 9 = 18\n",
      "2 * 10 = 20\n",
      "Multiplication Table of 3 is:\n",
      "3 * 1 = 3\n",
      "3 * 2 = 6\n",
      "3 * 3 = 9\n",
      "3 * 4 = 12\n",
      "3 * 5 = 15\n",
      "3 * 6 = 18\n",
      "3 * 7 = 21\n",
      "3 * 8 = 24\n",
      "3 * 9 = 27\n",
      "3 * 10 = 30\n",
      "Multiplication Table of 4 is:\n",
      "4 * 1 = 4\n",
      "4 * 2 = 8\n",
      "4 * 3 = 12\n",
      "4 * 4 = 16\n",
      "4 * 5 = 20\n",
      "4 * 6 = 24\n",
      "4 * 7 = 28\n",
      "4 * 8 = 32\n",
      "4 * 9 = 36\n",
      "4 * 10 = 40\n",
      "Multiplication Table of 5 is:\n",
      "5 * 1 = 5\n",
      "5 * 2 = 10\n",
      "5 * 3 = 15\n",
      "5 * 4 = 20\n",
      "5 * 5 = 25\n",
      "5 * 6 = 30\n",
      "5 * 7 = 35\n",
      "5 * 8 = 40\n",
      "5 * 9 = 45\n",
      "5 * 10 = 50\n",
      "Multiplication of 5 is 50\n"
     ]
    }
   ],
   "source": [
    "# 2. Write a program to print a multiplication table from 1 to 5 using nested for loops. \n",
    "\n",
    "for i in range(1,6):\n",
    "    print(\"Multiplication Table of\",i,\"is:\")\n",
    "    for j in range(1,11):\n",
    "        result = i * j \n",
    "        print(i,\"*\",j,\"=\",result)\n",
    "print(\"Multiplication of\",i,\"is\",result)"
   ]
  },
  {
   "cell_type": "code",
   "execution_count": 71,
   "id": "8193659e",
   "metadata": {},
   "outputs": [
    {
     "name": "stdout",
     "output_type": "stream",
     "text": [
      "12345\n",
      "12345\n",
      "12345\n",
      "12345\n",
      "12345\n"
     ]
    }
   ],
   "source": [
    "# 3. Write a program to print a square pattern of numbers (1 to 5). \n",
    "# 1 2 3 4 5 \n",
    "# 1 2 3 4 5 \n",
    "# 1 2 3 4 5 \n",
    "# 1 2 3 4 5 \n",
    "# 1 2 3 4 5\n",
    "\n",
    "for i in range(1,6):\n",
    "    for j in range(1,6):\n",
    "        print(j,end=\"\")\n",
    "    print()"
   ]
  },
  {
   "cell_type": "code",
   "execution_count": 257,
   "id": "72dbe329",
   "metadata": {},
   "outputs": [
    {
     "name": "stdout",
     "output_type": "stream",
     "text": [
      "      * \n",
      "     * * \n",
      "    * * * \n",
      "   * * * * \n",
      "  * * * * * \n",
      " * * * * * * \n",
      "* * * * * * * \n"
     ]
    }
   ],
   "source": [
    "# 4. Write a program to print a pyramid pattern of *. \n",
    "rows = 7\n",
    "for i in range(1,rows + 1):\n",
    "        for j in range(rows-i):\n",
    "                print(end=\" \")\n",
    "        for k in range(i ):\n",
    "                print(\"*\", end=\" \")\n",
    "        print()\n",
    "        \n",
    "    \n",
    "\n"
   ]
  },
  {
   "cell_type": "code",
   "execution_count": 248,
   "id": "570cfa5a",
   "metadata": {},
   "outputs": [
    {
     "name": "stdout",
     "output_type": "stream",
     "text": [
      "1\n",
      "12\n",
      "123\n",
      "1234\n",
      "12345\n"
     ]
    }
   ],
   "source": [
    "# 5. Write a program to print numbers in triangular form: \n",
    " \n",
    "# 1 \n",
    "# 12 \n",
    "# 123 \n",
    "# 1234 \n",
    "# 12345\n",
    "\n",
    "# n = int (input(\"Enter the number of rows you want:\"))\n",
    "\n",
    "\n",
    "for i in range(1,6):\n",
    "        for j in range(1,i + 1):\n",
    "                print(j,end=\"\")\n",
    "        print()"
   ]
  }
 ],
 "metadata": {
  "kernelspec": {
   "display_name": "Python 3",
   "language": "python",
   "name": "python3"
  },
  "language_info": {
   "codemirror_mode": {
    "name": "ipython",
    "version": 3
   },
   "file_extension": ".py",
   "mimetype": "text/x-python",
   "name": "python",
   "nbconvert_exporter": "python",
   "pygments_lexer": "ipython3",
   "version": "3.13.5"
  }
 },
 "nbformat": 4,
 "nbformat_minor": 5
}
