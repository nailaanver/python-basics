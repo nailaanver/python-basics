{
 "cells": [
  {
   "cell_type": "code",
   "execution_count": 16,
   "id": "4c01c940",
   "metadata": {},
   "outputs": [
    {
     "name": "stdout",
     "output_type": "stream",
     "text": [
      "Sum is: 7\n"
     ]
    }
   ],
   "source": [
    "# Write a function to add two numbers and return the result.\n",
    "\n",
    "def  add_num ():\n",
    "    sum = num1 + num2\n",
    "    print(\"Sum is:\",sum) \n",
    "num1 = 3\n",
    "num2 = 4\n",
    "add_num()\n",
    "    \n",
    "    "
   ]
  },
  {
   "cell_type": "code",
   "execution_count": null,
   "id": "4536da4b",
   "metadata": {},
   "outputs": [
    {
     "name": "stdout",
     "output_type": "stream",
     "text": [
      "alian\n"
     ]
    }
   ],
   "source": [
    "# Write a function that takes a string and prints it in reverse.\n",
    "\n",
    "def reverse():\n",
    "    print(n[::-1])\n",
    "n = (input(\"Enter the string\")).lower()\n",
    "reverse()\n"
   ]
  },
  {
   "cell_type": "code",
   "execution_count": 6,
   "id": "6b0137c0",
   "metadata": {},
   "outputs": [
    {
     "name": "stdout",
     "output_type": "stream",
     "text": [
      "0\n"
     ]
    }
   ],
   "source": [
    "# Write a function to find the square of a number.\n",
    "\n",
    "def square():\n",
    "    square = n * n\n",
    "    print(square)\n",
    "n = int(input(\"Enter a number:\"))\n",
    "square()"
   ]
  },
  {
   "cell_type": "code",
   "execution_count": 8,
   "id": "f1aa5780",
   "metadata": {},
   "outputs": [
    {
     "name": "stdout",
     "output_type": "stream",
     "text": [
      "This is odd\n"
     ]
    }
   ],
   "source": [
    "# Write a function to check if a number is even or odd.\n",
    "def check_even_odd():\n",
    "    if n % 2 == 0:\n",
    "        print(\"This is even number\")\n",
    "    else:\n",
    "        print(\"This is odd\")\n",
    "n = int(input(\"Enter a number:\"))\n",
    "\n",
    "check_even_odd()"
   ]
  },
  {
   "cell_type": "code",
   "execution_count": 15,
   "id": "3b832c48",
   "metadata": {},
   "outputs": [
    {
     "data": {
      "text/plain": [
       "120"
      ]
     },
     "execution_count": 15,
     "metadata": {},
     "output_type": "execute_result"
    }
   ],
   "source": [
    "# Write a function to calculate the factorial of a number.\n",
    "\n",
    "def factorial():\n",
    "    if n <0:\n",
    "        print(\"Factorial is not defined for Negative numbers\")\n",
    "    elif n==0 or n==1:\n",
    "        return 1\n",
    "    else:\n",
    "        result = 1\n",
    "        for i in range(1,n+1):\n",
    "            result *=i\n",
    "        return result\n",
    "n = int(input(\"Enter a number:\"))\n",
    "factorial()"
   ]
  }
 ],
 "metadata": {
  "kernelspec": {
   "display_name": "Python 3",
   "language": "python",
   "name": "python3"
  },
  "language_info": {
   "codemirror_mode": {
    "name": "ipython",
    "version": 3
   },
   "file_extension": ".py",
   "mimetype": "text/x-python",
   "name": "python",
   "nbconvert_exporter": "python",
   "pygments_lexer": "ipython3",
   "version": "3.13.5"
  }
 },
 "nbformat": 4,
 "nbformat_minor": 5
}
