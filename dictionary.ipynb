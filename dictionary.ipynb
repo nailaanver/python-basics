{
 "cells": [
  {
   "cell_type": "code",
   "execution_count": 2,
   "id": "66aa7423",
   "metadata": {},
   "outputs": [
    {
     "name": "stdout",
     "output_type": "stream",
     "text": [
      "{'name': 'naila', 'place': 'vadakara', 'email': 'fathimanaila71@gmail.com'}\n"
     ]
    }
   ],
   "source": [
    "# Create a dictionary with 3 key-value pairs and print it.\n",
    "\n",
    "dict = {\"name\":\"naila\", \"place\": \"vadakara\", \"email\" : \"fathimanaila71@gmail.com\"}\n",
    "print(dict)"
   ]
  },
  {
   "cell_type": "code",
   "execution_count": 5,
   "id": "0f1e3460",
   "metadata": {},
   "outputs": [
    {
     "name": "stdout",
     "output_type": "stream",
     "text": [
      "naila\n"
     ]
    }
   ],
   "source": [
    "# Write a program to access the value of a given key in a dictionary.\n",
    "\n",
    "dict = {\"name\":\"naila\", \"place\": \"vadakara\", \"email\" : \"fathimanaila71@gmail.com\"}\n",
    "name = dict[\"name\"]\n",
    "print(name)"
   ]
  },
  {
   "cell_type": "code",
   "execution_count": 6,
   "id": "5c4bec3e",
   "metadata": {},
   "outputs": [
    {
     "name": "stdout",
     "output_type": "stream",
     "text": [
      "{'name': 'naila', 'place': 'vadakara', 'email': 'fathimanaila71@gmail.com', 'age': 20}\n"
     ]
    }
   ],
   "source": [
    "# Add a new key-value pair to an existing dictionary.\n",
    "\n",
    "dict = {\"name\":\"naila\", \"place\": \"vadakara\", \"email\" : \"fathimanaila71@gmail.com\"}\n",
    "dict[\"age\"] = 20\n",
    "print(dict)"
   ]
  },
  {
   "cell_type": "code",
   "execution_count": 7,
   "id": "93c6a8bf",
   "metadata": {},
   "outputs": [
    {
     "name": "stdout",
     "output_type": "stream",
     "text": [
      "{'name': 'naila', 'place': 'vadakara', 'email': 'nailaanver22@gmail.com'}\n"
     ]
    }
   ],
   "source": [
    "# Update the value of a specific key in a dictionary.\n",
    "\n",
    "dict = {\"name\":\"naila\", \"place\": \"vadakara\", \"email\" : \"fathimanaila71@gmail.com\"}\n",
    "dict[\"email\"] = \"nailaanver22@gmail.com\"\n",
    "print(dict)"
   ]
  },
  {
   "cell_type": "code",
   "execution_count": 8,
   "id": "29dee077",
   "metadata": {},
   "outputs": [
    {
     "name": "stdout",
     "output_type": "stream",
     "text": [
      "{'name': 'naila', 'place': 'vadakara'}\n"
     ]
    }
   ],
   "source": [
    "# Delete a key-value pair from a dictionary using del.\n",
    "\n",
    "dict = {\"name\":\"naila\", \"place\": \"vadakara\", \"email\" : \"fathimanaila71@gmail.com\"}\n",
    "del dict[\"email\"]\n",
    "print(dict)"
   ]
  },
  {
   "cell_type": "code",
   "execution_count": 11,
   "id": "63c0acc2",
   "metadata": {},
   "outputs": [
    {
     "name": "stdout",
     "output_type": "stream",
     "text": [
      "name is occur in the dictionory\n"
     ]
    }
   ],
   "source": [
    "# Check if a key exists in a dictionary.\n",
    "\n",
    "dict = {\"name\":\"naila\", \"place\": \"vadakara\", \"email\" : \"fathimanaila71@gmail.com\"}\n",
    "key = \"name\"\n",
    "if key in dict:\n",
    "    print(key,\"is occur in the dictionory\")\n",
    "else:\n",
    "    print(key,\"not occur in the dictionory\")"
   ]
  },
  {
   "cell_type": "code",
   "execution_count": 18,
   "id": "5a1430ce",
   "metadata": {},
   "outputs": [
    {
     "name": "stdout",
     "output_type": "stream",
     "text": [
      "name\n",
      "place\n",
      "email\n"
     ]
    }
   ],
   "source": [
    "# Print all keys of a dictionary using a loop.\n",
    "\n",
    "dict = {\"name\":\"naila\", \"place\": \"vadakara\", \"email\" : \"fathimanaila71@gmail.com\"}\n",
    "for key in dict:\n",
    "    print(key)"
   ]
  },
  {
   "cell_type": "code",
   "execution_count": 19,
   "id": "1e85fa80",
   "metadata": {},
   "outputs": [
    {
     "name": "stdout",
     "output_type": "stream",
     "text": [
      "naila\n",
      "vadakara\n",
      "fathimanaila71@gmail.com\n"
     ]
    }
   ],
   "source": [
    "# Print all values of a dictionary using a loop.\n",
    "\n",
    "dict = {\"name\":\"naila\", \"place\": \"vadakara\", \"email\" : \"fathimanaila71@gmail.com\"}\n",
    "for value in dict.values():\n",
    "    print(value)"
   ]
  },
  {
   "cell_type": "code",
   "execution_count": 21,
   "id": "2a53016f",
   "metadata": {},
   "outputs": [
    {
     "name": "stdout",
     "output_type": "stream",
     "text": [
      "The length of dictionary is: 4\n"
     ]
    }
   ],
   "source": [
    "# Write a program to find the length of a dictionary.\n",
    "\n",
    "dict = {\"name\":\"naila\", \"place\": \"vadakara\", \"email\" : \"fathimanaila71@gmail.com\",\"age\":4}\n",
    "print(\"The length of dictionary is:\",len(dict))"
   ]
  },
  {
   "cell_type": "code",
   "execution_count": 26,
   "id": "8fcc140e",
   "metadata": {},
   "outputs": [
    {
     "name": "stdout",
     "output_type": "stream",
     "text": [
      "Cleared dictionory is: {dict}\n"
     ]
    }
   ],
   "source": [
    "# Clear all elements from a dictionary.\n",
    "\n",
    "dict = {\"name\":\"naila\", \"place\": \"vadakara\", \"email\" : \"fathimanaila71@gmail.com\",\"age\":4}\n",
    "dict = dict.clear()\n",
    "print(\"Cleared dictionory is: {dict}\")"
   ]
  },
  {
   "cell_type": "code",
   "execution_count": null,
   "id": "22cd6537",
   "metadata": {},
   "outputs": [],
   "source": []
  }
 ],
 "metadata": {
  "kernelspec": {
   "display_name": "Python 3",
   "language": "python",
   "name": "python3"
  },
  "language_info": {
   "codemirror_mode": {
    "name": "ipython",
    "version": 3
   },
   "file_extension": ".py",
   "mimetype": "text/x-python",
   "name": "python",
   "nbconvert_exporter": "python",
   "pygments_lexer": "ipython3",
   "version": "3.13.5"
  }
 },
 "nbformat": 4,
 "nbformat_minor": 5
}
