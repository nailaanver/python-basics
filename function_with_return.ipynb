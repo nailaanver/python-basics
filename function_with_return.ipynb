{
 "cells": [
  {
   "cell_type": "code",
   "execution_count": 4,
   "id": "5ca470c2",
   "metadata": {},
   "outputs": [
    {
     "data": {
      "text/plain": [
       "50.24"
      ]
     },
     "execution_count": 4,
     "metadata": {},
     "output_type": "execute_result"
    }
   ],
   "source": [
    "# Write a function to calculate the area of a circle given the radius.\n",
    "\n",
    "def area_circle(radius):\n",
    "    area = 3.14 * (radius*radius)\n",
    "    return area\n",
    "area_circle(4)"
   ]
  },
  {
   "cell_type": "code",
   "execution_count": 16,
   "id": "0c911e7c",
   "metadata": {},
   "outputs": [
    {
     "data": {
      "text/plain": [
       "7"
      ]
     },
     "execution_count": 16,
     "metadata": {},
     "output_type": "execute_result"
    }
   ],
   "source": [
    "# Write a function that returns the largest element from a list.\n",
    "\n",
    "def largest_element(list):\n",
    "    largest = list[0]\n",
    "    for element in list:\n",
    "        if element > largest :\n",
    "            largest = element\n",
    "    return largest\n",
    "# list = [5,3,7,2]\n",
    "largest_element(list)"
   ]
  },
  {
   "cell_type": "code",
   "execution_count": null,
   "id": "2720d578",
   "metadata": {},
   "outputs": [
    {
     "data": {
      "text/plain": [
       "False"
      ]
     },
     "execution_count": 26,
     "metadata": {},
     "output_type": "execute_result"
    }
   ],
   "source": [
    "# Write a function to check if a number is prime.\n",
    "import math\n",
    "def check_prime(number):\n",
    "    if number <=1:\n",
    "        return False\n",
    "    if number==2:\n",
    "        return True\n",
    "    if number % 2 == 0:\n",
    "        return False\n",
    "    for i in range(3, int(math.sqrt(number)) + 1, 2):\n",
    "        if number % i == 0:\n",
    "            return False  \n",
    "    return True  \n",
    "check_prime(12)\n",
    "        \n",
    "    "
   ]
  },
  {
   "cell_type": "code",
   "execution_count": 27,
   "id": "2765e0f0",
   "metadata": {},
   "outputs": [
    {
     "data": {
      "text/plain": [
       "True"
      ]
     },
     "execution_count": 27,
     "metadata": {},
     "output_type": "execute_result"
    }
   ],
   "source": [
    "# Write a function to check if a number is prime.without the use of built in function\n",
    "\n",
    "def is_prime(num):\n",
    "    if num<=1:\n",
    "        return False\n",
    "    if num == 2:\n",
    "        return True\n",
    "    if num%2==0:\n",
    "        return False\n",
    "    divisor = 3\n",
    "    while divisor * divisor <= num:\n",
    "        if num % divisor == 0:\n",
    "            return False  # Found a divisor, so it's not prime\n",
    "        divisor += 2  # Increment by 2 to check only odd numbers\n",
    "\n",
    "    return True\n",
    "is_prime(11)\n"
   ]
  },
  {
   "cell_type": "code",
   "execution_count": 35,
   "id": "bc79bf7d",
   "metadata": {},
   "outputs": [
    {
     "name": "stdout",
     "output_type": "stream",
     "text": [
      "0 1 1 2 3 5 "
     ]
    }
   ],
   "source": [
    "# Write a function to generate the Fibonacci series up to n terms.\n",
    "\n",
    "def fibonacci(n):\n",
    "    a,b=0,1\n",
    "    if n <=0:\n",
    "        print(\"Please enter a positive integer for the number of terms.\")\n",
    "    elif n==1:\n",
    "        print(a)\n",
    "    else:\n",
    "        for _ in range(n):\n",
    "            print(a, end=\" \")\n",
    "            a, b = b, a + b\n",
    "    return \n",
    "fibonacci(6)"
   ]
  },
  {
   "cell_type": "code",
   "execution_count": null,
   "id": "244f7443",
   "metadata": {},
   "outputs": [],
   "source": [
    "# Write a function to convert Celsius to Fahrenheit.\n",
    "\n",
    "def cel_to_fahren(cel)"
   ]
  }
 ],
 "metadata": {
  "kernelspec": {
   "display_name": "Python 3",
   "language": "python",
   "name": "python3"
  },
  "language_info": {
   "codemirror_mode": {
    "name": "ipython",
    "version": 3
   },
   "file_extension": ".py",
   "mimetype": "text/x-python",
   "name": "python",
   "nbconvert_exporter": "python",
   "pygments_lexer": "ipython3",
   "version": "3.13.5"
  }
 },
 "nbformat": 4,
 "nbformat_minor": 5
}
