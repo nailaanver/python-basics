{
 "cells": [
  {
   "cell_type": "code",
   "execution_count": 1,
   "id": "5f4ed19e",
   "metadata": {},
   "outputs": [
    {
     "name": "stdout",
     "output_type": "stream",
     "text": [
      "The number is odd\n"
     ]
    }
   ],
   "source": [
    "#Check Even or Odd \n",
    "\n",
    "num = int(input(\"enter a number\"))\n",
    "if num % 2 ==0:\n",
    "    print(\"The number is even\")\n",
    "else:\n",
    "    print(\"The number is odd\")"
   ]
  },
  {
   "cell_type": "code",
   "execution_count": 3,
   "id": "4cb20c97",
   "metadata": {},
   "outputs": [
    {
     "name": "stdout",
     "output_type": "stream",
     "text": [
      "Number is Zero\n"
     ]
    }
   ],
   "source": [
    "#Positive, Negative, or Zero\n",
    "\n",
    "num = int(input(\"Enter a number\"))\n",
    "if num <0:\n",
    "    print(\"Number is Negative\")\n",
    "elif num >0:\n",
    "    print(\"Number is Positive\")\n",
    "else:\n",
    "    print(\"Number is Zero\")\n"
   ]
  },
  {
   "cell_type": "code",
   "execution_count": 6,
   "id": "703a6109",
   "metadata": {},
   "outputs": [
    {
     "name": "stdout",
     "output_type": "stream",
     "text": [
      "The Largest Number is  3\n"
     ]
    }
   ],
   "source": [
    "#Find the Largest of Two Numbers\n",
    "\n",
    "n1 = int(input(\"Enter the first number\"))\n",
    "n2 = int(input(\"Enter the second number\"))\n",
    "if n1>n2:\n",
    "    print(\"The Largest Number is\",n1)\n",
    "else:\n",
    "    print(\"The Largest Number is \",n2)"
   ]
  },
  {
   "cell_type": "code",
   "execution_count": null,
   "id": "3fb53b3b",
   "metadata": {},
   "outputs": [
    {
     "name": "stdout",
     "output_type": "stream",
     "text": [
      "The Largest Number is 4\n"
     ]
    }
   ],
   "source": [
    "#Find the Largest of Three Numbers \n",
    "\n",
    "n1 = int(input(\"Enter the first number\"))\n",
    "n2 = int(input(\"Enter the second number\"))\n",
    "n3 = int(input(\"Enter the third number\"))\n",
    "if n1>n2 and n1>n3:\n",
    "    print(\"The Largest Number is\",n1)\n",
    "elif n2>n1 and n2>n3:\n",
    "    print(\"The Largest Number is\",n2)    \n",
    "else:\n",
    "    print(\"The Largest Number is \",n3)"
   ]
  },
  {
   "cell_type": "code",
   "execution_count": 12,
   "id": "3d7cc832",
   "metadata": {},
   "outputs": [
    {
     "name": "stdout",
     "output_type": "stream",
     "text": [
      "Grade B\n"
     ]
    }
   ],
   "source": [
    "#Grade Calculation\n",
    "#Write a program that takes a student’s marks as input and prints the grade using this logic: \n",
    "#Marks ≥ 90 → Grade A \n",
    "#Marks ≥ 75 → Grade B \n",
    "#Marks ≥ 50 → Grade C \n",
    "#Otherwise → Fail \n",
    "\n",
    "mark = int(input(\"Enter the Mark\"))\n",
    "if mark >= 90:\n",
    "    print(\"Grade A\")\n",
    "elif mark>= 75:\n",
    "    print(\"Grade B\")\n",
    "elif mark >= 50:\n",
    "    print(\"Grade C\")\n",
    "else:\n",
    "    print(\"fail\")"
   ]
  },
  {
   "cell_type": "code",
   "execution_count": 27,
   "id": "ca946c9a",
   "metadata": {},
   "outputs": [
    {
     "name": "stdout",
     "output_type": "stream",
     "text": [
      "2025 is not a leap year\n"
     ]
    }
   ],
   "source": [
    "#6. Leap Year Check \n",
    "#Write a program to check whether a given year is a leap year or not. \n",
    "#(Hint: A year is a leap year if it is divisible by 4 but not by 100, except if divisible by 400.)\n",
    "\n",
    "year = int(input(\"Enter the Year:\"))\n",
    "if (year % 4 ==0 and year % 100 !=0 ) or (year % 400 ==0):\n",
    "    print(year, \"is leap year\")\n",
    "else:\n",
    "    print(year, \"is not a leap year\")"
   ]
  },
  {
   "cell_type": "code",
   "execution_count": 41,
   "id": "c2a86f5d",
   "metadata": {},
   "outputs": [
    {
     "name": "stdout",
     "output_type": "stream",
     "text": [
      "The person is not eligible for vote\n"
     ]
    }
   ],
   "source": [
    "#Voting Eligibility \n",
    "# Write a program that takes age as input and checks whether the person is eligible to vote (age ≥ 18) \n",
    "# or not. \n",
    "\n",
    "age = int(input(\"Entet the Age:\"))\n",
    "if age>=18:\n",
    "    print(\"The person is eligible for vote\")\n",
    "else:\n",
    "    print(\"The person is not eligible for vote\")"
   ]
  },
  {
   "cell_type": "code",
   "execution_count": null,
   "id": "4e81c531",
   "metadata": {},
   "outputs": [
    {
     "name": "stdout",
     "output_type": "stream",
     "text": [
      "Given character d is a Vowels:\n",
      "Character is a consonant\n"
     ]
    }
   ],
   "source": [
    "# 8. Check Vowel or Consonant \n",
    "# Write a program to check whether a given character is a vowel or a consonant. \n",
    "\n",
    "text = input(\"Enter the character:\")\n",
    "vowels = 'a','e','i','o','u','A','E','I','O','U',\n",
    "if vowels in text :\n",
    "    print(\"Given character\" , text , \"is a Vowels:\")\n",
    "else:\n",
    "    print(\"Character is a consonant\")\n"
   ]
  }
 ],
 "metadata": {
  "kernelspec": {
   "display_name": "Python 3",
   "language": "python",
   "name": "python3"
  },
  "language_info": {
   "codemirror_mode": {
    "name": "ipython",
    "version": 3
   },
   "file_extension": ".py",
   "mimetype": "text/x-python",
   "name": "python",
   "nbconvert_exporter": "python",
   "pygments_lexer": "ipython3",
   "version": "3.13.5"
  }
 },
 "nbformat": 4,
 "nbformat_minor": 5
}
