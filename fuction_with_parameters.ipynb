{
 "cells": [
  {
   "cell_type": "code",
   "execution_count": 5,
   "id": "9f986573",
   "metadata": {},
   "outputs": [
    {
     "name": "stdout",
     "output_type": "stream",
     "text": [
      "hello, Naila\n"
     ]
    }
   ],
   "source": [
    "# Write a function that takes a name as input and prints \"Hello, <name>!\".\n",
    "\n",
    "def print_name(name):\n",
    "    print(\"hello,\",name)\n",
    "print_name(\"Naila\")"
   ]
  },
  {
   "cell_type": "code",
   "execution_count": 12,
   "id": "876013f8",
   "metadata": {},
   "outputs": [
    {
     "data": {
      "text/plain": [
       "11"
      ]
     },
     "execution_count": 12,
     "metadata": {},
     "output_type": "execute_result"
    }
   ],
   "source": [
    "# Write a function that accepts a list and returns the sum of its elements.\n",
    "\n",
    "def sum_list(list):\n",
    "    sum = 0\n",
    "    for i in list:\n",
    "        sum +=i\n",
    "    return sum\n",
    "list = [1,2,3,5]\n",
    "sum_list(list)\n",
    "    \n",
    "    "
   ]
  },
  {
   "cell_type": "code",
   "execution_count": 16,
   "id": "6b22957b",
   "metadata": {},
   "outputs": [
    {
     "name": "stdout",
     "output_type": "stream",
     "text": [
      "8 is maximum\n"
     ]
    }
   ],
   "source": [
    "# Write a function that takes two numbers and returns the maximum.\n",
    "\n",
    "def maximum(n1,n2):\n",
    "    if n1>n2:\n",
    "        print(n1,\"is maximum\")\n",
    "    else:\n",
    "        print(n2,\"is maximum\")\n",
    "maximum(8,3)"
   ]
  },
  {
   "cell_type": "code",
   "execution_count": 22,
   "id": "726db420",
   "metadata": {},
   "outputs": [
    {
     "name": "stdout",
     "output_type": "stream",
     "text": [
      "malayalam is palindrome\n"
     ]
    }
   ],
   "source": [
    "# Write a function to check if a string is a palindrome.\n",
    "\n",
    "def check_palindrome(string):\n",
    "    if string[::-1]==string:\n",
    "        print(string,\"is palindrome\")\n",
    "    else:\n",
    "        print(string,\"is not palindrome\")\n",
    "check_palindrome(\"malayalam\")"
   ]
  },
  {
   "cell_type": "code",
   "execution_count": 25,
   "id": "fc9d23f4",
   "metadata": {},
   "outputs": [
    {
     "name": "stdout",
     "output_type": "stream",
     "text": [
      "3\n"
     ]
    }
   ],
   "source": [
    "# Write a function to count the vowels in a given string.\n",
    "\n",
    "def count_vowels(string):\n",
    "    count = 0\n",
    "    vowels = (\"a\",\"e\",\"i\",\"o\",\"u\",\"A\",\"E\",\"I\",\"O\",\"U\")\n",
    "    for i in string:\n",
    "        if i in vowels:\n",
    "            count +=1\n",
    "    print(count)\n",
    "count_vowels(\"naila\")\n",
    "    "
   ]
  }
 ],
 "metadata": {
  "kernelspec": {
   "display_name": "Python 3",
   "language": "python",
   "name": "python3"
  },
  "language_info": {
   "codemirror_mode": {
    "name": "ipython",
    "version": 3
   },
   "file_extension": ".py",
   "mimetype": "text/x-python",
   "name": "python",
   "nbconvert_exporter": "python",
   "pygments_lexer": "ipython3",
   "version": "3.13.5"
  }
 },
 "nbformat": 4,
 "nbformat_minor": 5
}
