{
 "cells": [
  {
   "cell_type": "code",
   "execution_count": 3,
   "id": "0a281e3f",
   "metadata": {},
   "outputs": [
    {
     "name": "stdout",
     "output_type": "stream",
     "text": [
      "Largest Number in list is: 8\n",
      "Smallest Number in list is: 2\n"
     ]
    }
   ],
   "source": [
    "# 1. Write a program to find the largest and smallest number in a list. \n",
    "\n",
    "list = [2,5,3,8,6]\n",
    "for i in list:\n",
    "    largest = max(list)\n",
    "    smallest = min(list)\n",
    "print(\"Largest Number in list is:\",largest)\n",
    "print(\"Smallest Number in list is:\",smallest)"
   ]
  },
  {
   "cell_type": "code",
   "execution_count": 12,
   "id": "8a6ff247",
   "metadata": {},
   "outputs": [
    {
     "name": "stdout",
     "output_type": "stream",
     "text": [
      "New list is: [5, 3, 7, 9, 6]\n"
     ]
    }
   ],
   "source": [
    "# 2. Write a program to remove duplicates from a list.\n",
    "\n",
    "list = [5,3,7,9,6,3,5]\n",
    "new_list =[]\n",
    "for i in list:\n",
    "    if i not in new_list:\n",
    "        new_list.append(i)\n",
    "print(\"New list is:\",new_list)"
   ]
  },
  {
   "cell_type": "code",
   "execution_count": 13,
   "id": "6095b03f",
   "metadata": {},
   "outputs": [
    {
     "name": "stdout",
     "output_type": "stream",
     "text": [
      "[2, 6, 0, 5, 3, 4]\n"
     ]
    }
   ],
   "source": [
    "# 3. Write a program to reverse a list without using built-in functions. \n",
    "\n",
    "list = [4,3,5,0,6,2]\n",
    "reversed_list = list[::-1]\n",
    "print(reversed_list)\n"
   ]
  },
  {
   "cell_type": "code",
   "execution_count": null,
   "id": "f656f4b9",
   "metadata": {},
   "outputs": [
    {
     "name": "stdout",
     "output_type": "stream",
     "text": [
      "3 is occur  3\n",
      "4 is occur  3\n",
      "5 is occur  1\n",
      "6 is occur  2\n",
      "7 is occur  2\n",
      "9 is occur  1\n"
     ]
    }
   ],
   "source": [
    "# 4. Write a program to count how many times each element occurs in a list. \n",
    "\n",
    "my_list = [4,3,4,5,4,3,3,6,7,9,7,6]\n",
    "for i in set(my_list):\n",
    "    print(i,\"is occur \",my_list.count(i))"
   ]
  },
  {
   "cell_type": "code",
   "execution_count": 38,
   "id": "aecc2000",
   "metadata": {},
   "outputs": [
    {
     "name": "stdout",
     "output_type": "stream",
     "text": [
      "Even numbers: [2, 4, 6, 8]\n",
      "Odd numbers: [1, 3, 5, 7, 9]\n"
     ]
    }
   ],
   "source": [
    "# Write a program to separate odd and even numbers from a list.\n",
    "\n",
    "list = [1,2,3,4,5,6,7,8,9]\n",
    "even = []\n",
    "odd = []\n",
    "for i in list:\n",
    "    if i % 2 ==0:\n",
    "        even.append(i)\n",
    "    else:\n",
    "        odd.append(i)\n",
    "print(\"Even numbers:\",even)\n",
    "print(\"Odd numbers:\",odd)\n"
   ]
  }
 ],
 "metadata": {
  "kernelspec": {
   "display_name": "Python 3",
   "language": "python",
   "name": "python3"
  },
  "language_info": {
   "codemirror_mode": {
    "name": "ipython",
    "version": 3
   },
   "file_extension": ".py",
   "mimetype": "text/x-python",
   "name": "python",
   "nbconvert_exporter": "python",
   "pygments_lexer": "ipython3",
   "version": "3.13.5"
  }
 },
 "nbformat": 4,
 "nbformat_minor": 5
}
